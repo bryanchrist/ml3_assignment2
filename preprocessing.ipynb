{
 "cells": [
  {
   "cell_type": "markdown",
   "metadata": {},
   "source": [
    "# Import Dependencies"
   ]
  },
  {
   "cell_type": "code",
   "execution_count": null,
   "metadata": {},
   "outputs": [],
   "source": [
    "import os\n",
    "import torch\n",
    "import pandas as pd\n",
    "import numpy as np\n",
    "import torch.nn as nn\n",
    "from torch.utils.data import Dataset, random_split, DataLoader\n",
    "import matplotlib.pyplot as plt\n",
    "import torch.nn.functional as F\n",
    "from torchvision.utils import make_grid\n",
    "from torchvision.datasets import ImageFolder\n",
    "import torchvision.transforms as transforms\n",
    "import torchvision.models as models\n",
    "from PIL import Image\n",
    "from collections import OrderedDict\n",
    "from tqdm import tqdm\n",
    "import random\n",
    "from sklearn.preprocessing import LabelEncoder\n",
    "from sklearn.model_selection import train_test_split\n",
    "from torch import optim\n",
    "import time\n",
    "from torch.autograd import Variable\n",
    "%matplotlib inline"
   ]
  },
  {
   "cell_type": "code",
   "execution_count": null,
   "metadata": {},
   "outputs": [],
   "source": [
    "SEED = 1\n",
    "\n",
    "random.seed(SEED)\n",
    "np.random.seed(SEED)\n",
    "torch.manual_seed(SEED)\n",
    "torch.cuda.manual_seed(SEED)\n",
    "torch.backends.cudnn.deterministic = True\n",
    "\n",
    "device = torch.device('cuda:0' if torch.cuda.is_available() else 'cpu')\n",
    "print(device)"
   ]
  },
  {
   "cell_type": "markdown",
   "metadata": {},
   "source": [
    "# Load Data"
   ]
  },
  {
   "cell_type": "code",
   "execution_count": null,
   "metadata": {},
   "outputs": [],
   "source": [
    "data_dir = \"\" # Path to data directory\n",
    "labels = pd.read_csv(os.path.join(data_dir, 'labels.csv'))\n",
    "assert(len(os.listdir(os.path.join(data_dir, 'train'))) == len(labels))"
   ]
  },
  {
   "cell_type": "code",
   "execution_count": null,
   "metadata": {},
   "outputs": [],
   "source": [
    "le = LabelEncoder()\n",
    "labels.breed = le.fit_transform(labels.breed)\n",
    "labels.head()"
   ]
  },
  {
   "cell_type": "code",
   "execution_count": null,
   "metadata": {},
   "outputs": [],
   "source": [
    "X = labels.id\n",
    "y = labels.breed\n",
    "\n",
    "X_train, X_valid, y_train, y_valid = train_test_split(X, y,test_size=0.4, random_state=SEED, stratify=y)\n",
    "X_valid, X_test, y_valid, y_test = train_test_split(X_valid, y_valid, test_size=0.5, random_state=SEED, stratify=y_valid)"
   ]
  },
  {
   "cell_type": "code",
   "execution_count": null,
   "metadata": {},
   "outputs": [],
   "source": [
    "class Dataset_Interpreter(Dataset):\n",
    "    def __init__(self, data_path, file_names, labels=None, transforms=None):\n",
    "        self.data_path = data_path\n",
    "        self.file_names = file_names\n",
    "        self.labels = labels\n",
    "        self.transforms = transforms\n",
    "        \n",
    "    def __len__(self):\n",
    "        return (len(self.file_names))\n",
    "    \n",
    "    def __getitem__(self, idx):\n",
    "        img_name = f'{self.file_names.iloc[idx]}.jpg'\n",
    "        full_address = os.path.join(self.data_path, img_name)\n",
    "        image = Image.open(full_address)\n",
    "        label = self.labels.iloc[idx]\n",
    "        \n",
    "        if self.transforms is not None:\n",
    "            image = self.transforms(image)\n",
    "            \n",
    "        return np.array(image), label"
   ]
  },
  {
   "cell_type": "code",
   "execution_count": null,
   "metadata": {},
   "outputs": [],
   "source": [
    "def plot_images(images):\n",
    "\n",
    "    n_images = len(images)\n",
    "\n",
    "    rows = int(np.sqrt(n_images))\n",
    "    cols = int(np.sqrt(n_images))\n",
    "\n",
    "    fig = plt.figure(figsize=(20,10))\n",
    "    for i in range(rows*cols):\n",
    "        ax = fig.add_subplot(rows, cols, i+1)\n",
    "        ax.set_title(f'{le.inverse_transform([images[i][1]])}')\n",
    "        ax.imshow(np.array(images[i][0]))\n",
    "        ax.axis('off')\n",
    "N_IMAGES = 9\n",
    "\n",
    "train_data = Dataset_Interpreter(data_path=data_dir+'\\\\train\\\\', file_names=X_train, labels=y_train)\n",
    "images = [(image, label) for image, label in [train_data[i] for i in range(N_IMAGES)]] \n",
    "plot_images(images)"
   ]
  },
  {
   "cell_type": "markdown",
   "metadata": {},
   "source": [
    "# Create Model"
   ]
  },
  {
   "cell_type": "code",
   "execution_count": null,
   "metadata": {},
   "outputs": [],
   "source": [
    "# Create model here "
   ]
  },
  {
   "cell_type": "markdown",
   "metadata": {},
   "source": [
    "# Submission CSV"
   ]
  },
  {
   "cell_type": "code",
   "execution_count": null,
   "metadata": {},
   "outputs": [],
   "source": [
    "import pandas as pd\n",
    "\n",
    "def generate_submission(predictions, sample_submission_path, output_path):\n",
    "    \"\"\"\n",
    "    Generate a Kaggle submission file based on the given predictions.\n",
    "\n",
    "    Parameters:\n",
    "    - predictions: A dictionary with image ids as keys and a list of 120 probabilities as values.\n",
    "    - sample_submission_path: Path to the provided sample submission file.\n",
    "    - output_path: Path to save the generated submission file.\n",
    "    \"\"\"\n",
    "    # Load the sample submission\n",
    "    sample_submission = pd.read_csv(sample_submission_path)\n",
    "    \n",
    "    # Replace the sample probabilities with the actual predictions\n",
    "    for image_id, probs in predictions.items():\n",
    "        sample_submission.loc[sample_submission['id'] == image_id, sample_submission.columns[1:]] = probs\n",
    "\n",
    "    # Save the modified sample submission as the final submission\n",
    "    sample_submission.to_csv(output_path, index=False)\n",
    "\n",
    "# Example usage\n",
    "predictions = {\n",
    "    '000621fb3cbb32d8935728e48679680e': [0.01, 0.02, ...],  # Replace with actual probabilities\n",
    "    # ... add more predictions\n",
    "}\n",
    "generate_submission(predictions, data_dir + '/sample_submission.csv', 'my_submission.csv')"
   ]
  }
 ],
 "metadata": {
  "kernelspec": {
   "display_name": "Python 3",
   "language": "python",
   "name": "python3"
  },
  "language_info": {
   "codemirror_mode": {
    "name": "ipython",
    "version": 3
   },
   "file_extension": ".py",
   "mimetype": "text/x-python",
   "name": "python",
   "nbconvert_exporter": "python",
   "pygments_lexer": "ipython3",
   "version": "3.11.4"
  },
  "orig_nbformat": 4
 },
 "nbformat": 4,
 "nbformat_minor": 2
}
